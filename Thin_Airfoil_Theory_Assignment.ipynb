{
  "nbformat": 4,
  "nbformat_minor": 0,
  "metadata": {
    "colab": {
      "name": "Thin_Airfoil_Theory_Assignment.ipynb",
      "provenance": [],
      "collapsed_sections": [],
      "authorship_tag": "ABX9TyOq0MCKcYvRMcDmxaNC6g8V",
      "include_colab_link": true
    },
    "kernelspec": {
      "name": "python3",
      "display_name": "Python 3"
    },
    "language_info": {
      "name": "python"
    }
  },
  "cells": [
    {
      "cell_type": "markdown",
      "metadata": {
        "id": "view-in-github",
        "colab_type": "text"
      },
      "source": [
        "<a href=\"https://colab.research.google.com/github/5N3HA515/Cp_curve/blob/main/Thin_Airfoil_Theory_Assignment.ipynb\" target=\"_parent\"><img src=\"https://colab.research.google.com/assets/colab-badge.svg\" alt=\"Open In Colab\"/></a>"
      ]
    },
    {
      "cell_type": "code",
      "metadata": {
        "id": "MVtO6X6fH2-G"
      },
      "source": [
        "# Imports\n",
        "import numpy as np\n",
        "import matplotlib.pyplot as plt\n",
        "import re\n",
        "\n",
        "x = np.linspace(0,1,1001) #Chord-wise points distribution"
      ],
      "execution_count": null,
      "outputs": []
    },
    {
      "cell_type": "markdown",
      "metadata": {
        "id": "xzTcrrImQ3Xp"
      },
      "source": [
        "# Airfoil Camber and Thickness distribution\n",
        "\n",
        "---\n",
        "\n",
        "\n",
        "\n",
        "The functions defined here provide camber and thickness at a perticular chordwise location. The class takes the 4-digit input which corresponds to the NACA 4-digit airfoil. Here every length scale is normalized with respect to the chord length.\n",
        "\n",
        "Camber distribution for NACA 4-digit airfoils is in general defined as;\n",
        "\n",
        "\\begin{align}\n",
        "\\text{$z_c$}(x) = \\left\\{\n",
        "\\begin{array}{ll}\n",
        "\\frac{m}{p^2}(2p-x^2) & x \\le p \\\\\n",
        "\\frac{m}{(1-p)^2}(1-2p+2px-x^2) & x > p.\n",
        "\\end{array}\n",
        "\\right.\n",
        "\\end{align}\n",
        "\n",
        "Here $m$ is the normalized maximum camber (determined by $1/100^{th}$ of the first digit of the series) and $p$ is location of maximum camber (determined  by $1/10^{th}$ of the second digit of the series)\n",
        "\n",
        "Thickness distribution for NACA 4-digit airfoils with sharp trailing edge is in general defined as;\n",
        "\n",
        "\\begin{align}\n",
        "\\text{$z_t$}(x) = 5t (0.2969\\sqrt{x}-0.1260x-0.3516x^2+0.2843x^3-0.1036x^4)\n",
        "\\end{align}\n",
        "\n",
        "Here $t$ is the normalized maximum thickness of the airfoil, defined as $1/100^{th}$ of last 2 ditits of the series."
      ]
    },
    {
      "cell_type": "code",
      "metadata": {
        "id": "fsOFuVyTIcsU"
      },
      "source": [
        "def camber_NACA(X,m,p):\n",
        "  z_c = np.zeros_like(X)\n",
        "  for i,x in enumerate(X):\n",
        "    if x < p:\n",
        "      z_c[i] = m*((2*p*x)-x*x)/np.power(p,2)\n",
        "    elif x>=p:\n",
        "      z_c[i]= m*(1-(2*p)+(2*p*x)-np.power(x,2))/np.power((1-p),2)\n",
        "  return z_c\n",
        " \n",
        "def thickness_NACA(X,t):\n",
        "  z_t = np.zeros_like(X)\n",
        "  for i,x in enumerate(X):  \n",
        "    z_t[i] = 5*t*((0.2969*np.power(x,0.5))-(0.1260*np.power(x,1))-(0.3516*np.power(x,2))+(0.2843*np.power(x,3))-(0.1036*np.power(x,4)))    \n",
        "  return z_t\n",
        "\n",
        "\n",
        "class z_NACA(object):\n",
        " \n",
        "  def __init__(self,d='1410'):\n",
        "    self.digit = int(d)\n",
        "    self.camber =  self.digit // 100\n",
        "    self.m = (self.camber//10)/100\n",
        "    self.p = (self.camber%10)/10\n",
        "    self.t =  (self.digit % 100)/100\n",
        " \n",
        "    self.name = 'NACA'+d\n",
        " \n",
        " \n",
        "  def fun_zc(self,x):\n",
        "    return camber_NACA(x,self.m,self.p)\n",
        "   \n",
        "  def fun_zt(self,x):\n",
        "    return thickness_NACA(x,self.t)\n",
        " \n",
        "#endclass z_NACA"
      ],
      "execution_count": null,
      "outputs": []
    },
    {
      "cell_type": "markdown",
      "metadata": {
        "id": "p90DsQtfyRdt"
      },
      "source": [
        "#Airfoil Camber and Thickness distribution plotter"
      ]
    },
    {
      "cell_type": "code",
      "metadata": {
        "id": "pm2i8MclTD_p",
        "colab": {
          "base_uri": "https://localhost:8080/",
          "height": 282
        },
        "outputId": "0e5b2381-dd4f-4f2d-b065-21962873f821"
      },
      "source": [
        "def z_plot(class_zc,plot='c',d='1410',num=100,r=1):\n",
        "  x = np.linspace(0,1,num)\n",
        "  obj_zc = class_zc(d=d)\n",
        "  zc = obj_zc.fun_zc(x)\n",
        "  zt = obj_zc.fun_zt(x)\n",
        "\n",
        "  if r ==1:\n",
        "      plt.figure()\n",
        "      if plot == 'c':\n",
        "        plt.plot(x,zc,'g')\n",
        "        plt.ylabel('$z_c$')\n",
        "        \n",
        "      elif plot == 't':\n",
        "        plt.plot(x,zt,'r')\n",
        "        plt.ylabel('$z_t$')\n",
        "\n",
        "      elif plot == 'airfoil':\n",
        "        plt.plot(x,zt+zc,'r')\n",
        "        plt.plot(x,zc-zt,'r')\n",
        "        plt.axis([0,1,-0.5,0.5])\n",
        "      plt.legend([obj_zc.name])\n",
        "      plt.xlabel('$x/c$')\n",
        "      \n",
        "\n",
        "z_plot(z_NACA,plot='c',d='1410',num=100,r=0)\n",
        "z_plot(z_NACA,plot='airfoil',d='1410',num=100,r=1)"
      ],
      "execution_count": null,
      "outputs": [
        {
          "output_type": "display_data",
          "data": {
            "image/png": "[encoded data removed]",
            "text/plain": [
              "<Figure size 432x288 with 1 Axes>"
            ]
          },
          "metadata": {
            "needs_background": "light"
          }
        }
      ]
    },
    {
      "cell_type": "markdown",
      "metadata": {
        "id": "8Xd_dwTXq0BS"
      },
      "source": [
        "# Camber and Thickness slope distribution\n",
        "\n",
        "---\n",
        "\n",
        "\n",
        "\n",
        "The function `slope()` takes two arrays as input which define a particular curve. Slope at a point is calculated from neigbouring point co-ordinates, using Finite Difference Method. \n",
        "\n",
        "Progressiong from left to right, slope at left most point is calculated by forward difference;\n",
        "\\begin{align}\n",
        "\\left( \\frac{dz}{dx}\\right)_{i} = \\frac{z_{i+1}-z_{i}}{x_{i+1}-x_{i}}\n",
        "\\end{align}\n",
        "\n",
        "slope at right most point is calculated by backward difference;\n",
        "\\begin{align}\n",
        "\\left( \\frac{dz}{dx}\\right)_{i} = \\frac{z_{i}-z_{i-1}}{x_{i}-x_{i-1}}\n",
        "\\end{align}\n",
        "\n",
        "slope at intermediate points are calculated by central difference;\n",
        "\\begin{align}\n",
        "\\left( \\frac{dz}{dx}\\right)_{i} = \\frac{z_{i+1}-z_{i-1}}{x_{i+1}-x_{i-1}}\n",
        "\\end{align}"
      ]
    },
    {
      "cell_type": "markdown",
      "metadata": {
        "id": "faxzj-Zphyxb"
      },
      "source": [
        "# Airfoil Camber and Thickness slope plotter"
      ]
    },
    {
      "cell_type": "code",
      "metadata": {
        "id": "-zY-jJ1ccgiV"
      },
      "source": [
        "def slope(X,Z):\n",
        "  dzc_dx = np.zeros_like(X)\n",
        "  for i,z in enumerate(Z):\n",
        "    if X[i] == 0:\n",
        "      dzc_dx[i] = (Z[i+1]-z)/(X[i+1]-X[i])\n",
        "    elif X[i] == 1:\n",
        "      dzc_dx[i]= (z-Z[i-1])/(X[i]-X[i-1])\n",
        "    else:\n",
        "      dzc_dx[i]= (Z[i+1]-Z[i-1])/(X[i+1]-X[i-1])\n",
        "  return dzc_dx\n",
        " \n",
        "class dzdx(object):\n",
        " \n",
        "  def __init__(self,d='1410'):\n",
        "    self.obj_Z = z_NACA(d=d)\n",
        " \n",
        "    self.name = 'NACA'+d\n",
        " \n",
        " \n",
        "  def fun_dzc(self,x):\n",
        "    #self.Zc=self.obj_Z.fun_zc(x)\n",
        "    return slope(x,self.obj_Z.fun_zc(x))\n",
        "  def fun_dzt(self,x):\n",
        "    #self.Zt=self.obj_Z.fun_zt(x)\n",
        "    return slope(x,self.obj_Z.fun_zt(x))\n",
        "\n",
        "#endclass dzdx"
      ],
      "execution_count": null,
      "outputs": []
    },
    {
      "cell_type": "code",
      "metadata": {
        "colab": {
          "base_uri": "https://localhost:8080/",
          "height": 547
        },
        "id": "YHZwXmCMWNi3",
        "outputId": "b6b5ec5f-d93a-44e8-c528-2c2e0ded63b2"
      },
      "source": [
        "def dzdx_plot(class_dzc,plot='c',d='1410',num=100,r=1):\n",
        "  x = np.linspace(0,1,num)\n",
        "  obj_dz = class_dzc(d=d)\n",
        "  dzc = obj_dz.fun_dzc(x)\n",
        "  dzt = obj_dz.fun_dzt(x)\n",
        "\n",
        "  if r == 1:\n",
        "    plt.figure()\n",
        "    if plot == 'c':\n",
        "      plt.plot(x,dzc,'g')\n",
        "      plt.ylabel('$dz_c/dx$')\n",
        "    elif plot == 't':\n",
        "      plt.plot(x,dzt,'r')\n",
        "      plt.ylabel('$dz_t/dx$') \n",
        "    plt.legend([obj_dz.name])\n",
        "    plt.xlabel('$x/c$')\n",
        "\n",
        "#enddef dzdx_plot\n",
        " \n",
        "dzdx_plot(dzdx,plot='c',d='1410',num=100,r=1)\n",
        "dzdx_plot(dzdx,plot='t',d='1410',num=100,r=1)"
      ],
      "execution_count": null,
      "outputs": [
        {
          "output_type": "display_data",
          "data": {
            "image/png": "[encoded data removed]",
            "text/plain": [
              "<Figure size 432x288 with 1 Axes>"
            ]
          },
          "metadata": {
            "needs_background": "light"
          }
        },
        {
          "output_type": "display_data",
          "data": {
            "image/png": "[encoded data removed]",
            "text/plain": [
              "<Figure size 432x288 with 1 Axes>"
            ]
          },
          "metadata": {
            "needs_background": "light"
          }
        }
      ]
    },
    {
      "cell_type": "code",
      "metadata": {
        "colab": {
          "base_uri": "https://localhost:8080/"
        },
        "id": "isyt_SZ9YyZK",
        "outputId": "04aa5d02-7070-4147-9612-d9e1819932c2"
      },
      "source": [
        "!git clone https://github.com/5N3HA515/Cp_curve.git"
      ],
      "execution_count": 58,
      "outputs": [
        {
          "output_type": "stream",
          "name": "stdout",
          "text": [
            "fatal: destination path 'Cp_curve' already exists and is not an empty directory.\n"
          ]
        }
      ]
    },
    {
      "cell_type": "markdown",
      "metadata": {
        "id": "vO6wdHsxUlvs"
      },
      "source": [
        "# Determination of Aerodynamic Coefficients\n",
        "\n",
        "---\n",
        "\n",
        "Thin airfoil theory "
      ]
    },
    {
      "cell_type": "code",
      "metadata": {
        "colab": {
          "base_uri": "https://localhost:8080/",
          "height": 680
        },
        "id": "zNGP_JXsdo3N",
        "outputId": "ff7f76e5-6e85-4ea5-a8ba-06d241081d06"
      },
      "source": [
        "#Function to integrate uning trapizoidal method\n",
        "def integrate(Y,X):\n",
        "  A = 0\n",
        "  #plt.plot(X,Y)\n",
        "  for i in range(len(X)-1):\n",
        "    h = X[i+1]-X[i]\n",
        "    A += h*(Y[i+1]+Y[i])/2\n",
        "  return A\n",
        "#enddef integrate\n",
        "\n",
        "#Function to determine fourier cosine coefficients\n",
        "def Fourier(theta,dZ,N):\n",
        "  A = np.zeros(N)\n",
        "  for n in range(N):\n",
        "    Y = np.zeros_like(theta)\n",
        "    if n == 0:\n",
        "      Y = -dZ/np.pi\n",
        "    else:\n",
        "      Y = 2*dZ*np.cos(n*theta)/np.pi\n",
        "    A[n] = integrate(Y,theta)\n",
        "  \n",
        "  return A\n",
        "#enddef Fourier\n",
        "\n",
        "class coeffs(object):\n",
        " \n",
        "  def __init__(self,d='1410'):\n",
        "    self.obj_dZdX = dzdx(d = d)\n",
        " \n",
        "    self.name = 'NACA'+d\n",
        " \n",
        " \n",
        "  def Cp_Cl_Cm(self,alpha,r=1):\n",
        "    alpha = alpha*np.pi/180 #Angle of attack \n",
        "    self.N = 10 #Number of Fourier Coefficient required\n",
        "    self.dZc=self.obj_dZdX.fun_dzc(x) #Camber slope distribution\n",
        "    self.dZt=self.obj_dZdX.fun_dzt(x) #Thickness slope distribution\n",
        "    self.theta = np.arccos(1-(2*x)) #Co-ordinate transformation from x to theta\n",
        "    self.Coeffs = Fourier(self.theta,self.dZc,self.N) # Fourier Coefficients for camber\n",
        "    self.gamma = np.zeros_like(x)\n",
        "    for i in range(1,self.N):\n",
        "      self.gamma += 2*self.Coeffs[i]*np.sin(i*self.theta)\n",
        "    self.gamma += 2*(self.Coeffs[0]+alpha)*(1+np.cos(self.theta))/np.sin(self.theta) #Circulation distribution\n",
        "\n",
        "    self.zeta = x #Pseudo variable zeta taken for thickness problem\n",
        "    self.Cp_thick = np.zeros_like(x)\n",
        "    for i in range(len(x)): #Improper intergral done by Cauchy Principle Value\n",
        "      self.Cp_thick[i] = -(2/np.pi)*(integrate(self.dZt[0:i]/(x[i]-self.zeta[0:i]),self.zeta[0:i])+integrate(self.dZt[i+1:len(x)+1]/(x[i]-self.zeta[i+1:len(x)+1]),self.zeta[i+1:len(x)+1]))\n",
        "    self.Cp_u = self.Cp_thick - self.gamma #Cp for upper surface\n",
        "    self.Cp_l = self.Cp_thick + self.gamma #Cp for lower surface\n",
        "    self.Cl_i = integrate(self.Cp_l[1:len(x)]-self.Cp_u[1:len(x)],x[1:len(x)]) #Lift coefficient calculation by integrating Cp\n",
        "    self.Cl_f = np.pi*((2*alpha)+(2*self.Coeffs[0])+self.Coeffs[1]) #Lift coefficient from analytical expression\n",
        "    self.Cm_i = integrate(-x[1:len(x)]*(self.Cp_l[1:len(x)]-self.Cp_u[1:len(x)])+0.25*(self.Cp_l[1:len(x)]-self.Cp_u[1:len(x)]),x[1:len(x)]) #Moment coefficient calculation by integrating Cl moment\n",
        "    self.Cm_f = -np.pi*(self.Coeffs[1]-self.Coeffs[2])/4 #Moment coefficient from analytical expression\n",
        "    if r == 1:\n",
        "      plt.figure(dpi=75)\n",
        "      plt.ylabel('$C_p$')\n",
        "      plt.xlabel('x/c')\n",
        "      plt.plot(x,self.Cp_u,'g')\n",
        "      plt.plot(x,self.Cp_l,'r')\n",
        "      plt.gca().invert_yaxis()\n",
        "      plt.grid()\n",
        "      print('Lift Coefficient (using formula) = ',self.Cl_f)\n",
        "      print('Lift Coefficient (using numerical integration) = ',self.Cl_i)\n",
        "      print('Quarter-cord Pitching Moment Coefficient (using formula) = ',self.Cm_f)\n",
        "      print('Quarter-cord Pitching Moment Coefficient (using numerical integration) = ',self.Cm_i)\n",
        "\n",
        "      #print('Upload the Xfoil Cp distribution file')\n",
        "      #from google.colab import files\n",
        "      #uploaded = files.upload()\n",
        "\n",
        "      with open(\"/content/Cp_NACA2412_a0.txt\",'r') as file1:\n",
        "        self.Cp = file1.readlines()\n",
        "        self.x_ref = np.zeros(len(self.Cp))\n",
        "        self.Cp_ref = np.zeros(len(self.Cp))\n",
        "        for i,C in enumerate(self.Cp):\n",
        "          numbers=[]\n",
        "          for word in C.split():\n",
        "            if word.replace('.', '', 1).replace('-', '', 1).isdigit(): \n",
        "              numbers.append(float(word))\n",
        "          self.x_ref[i]=numbers[0]\n",
        "          self.Cp_ref[i]=numbers[2]\n",
        "        plt.plot(self.x_ref,self.Cp_ref,'k')\n",
        "        plt.legend(['$C_{pu}$','$C_{pl}$','Xfoil data'])\n",
        "        plt.title(self.name)\n",
        "        plt.axis([0,1,1,-1])\n",
        "      \n",
        "      k=0\n",
        "      if k ==1:\n",
        "        with open(\"/content/Cp_NACA2411_a8.txt\",'w') as file2:\n",
        "          for i in range(len(x)):\n",
        "            file2.write(str(x[i])+' '+str(self.Cp_u[i])+' '+str(self.Cp_l[i])+'\\n')\n",
        "\n",
        "    return self.Cl_i, self.Cm_i\n",
        "  #enddef Cp_Cl_Cm\n",
        "\n",
        "#endclass coeffs\n",
        "\n",
        "\n",
        "\n",
        "(coeffs(d = '2412')).Cp_Cl_Cm(alpha = 0, r=1)"
      ],
      "execution_count": 59,
      "outputs": [
        {
          "output_type": "stream",
          "name": "stderr",
          "text": [
            "/usr/local/lib/python3.7/dist-packages/ipykernel_launcher.py:43: RuntimeWarning: divide by zero encountered in true_divide\n"
          ]
        },
        {
          "output_type": "stream",
          "name": "stdout",
          "text": [
            "Lift Coefficient (using formula) =  0.22777383543583032\n",
            "Lift Coefficient (using numerical integration) =  0.22886602074655713\n",
            "Quarter-cord Pitching Moment Coefficient (using formula) =  -0.05311588853194388\n",
            "Quarter-cord Pitching Moment Coefficient (using numerical integration) =  -0.0528402440069804\n"
          ]
        },
        {
          "output_type": "error",
          "ename": "FileNotFoundError",
          "evalue": "ignored",
          "traceback": [
            "\u001b[0;31m---------------------------------------------------------------------------\u001b[0m",
            "\u001b[0;31mFileNotFoundError\u001b[0m                         Traceback (most recent call last)",
            "\u001b[0;32m<ipython-input-59-7e4f9b18f1ce>\u001b[0m in \u001b[0;36m<module>\u001b[0;34m()\u001b[0m\n\u001b[1;32m     99\u001b[0m \u001b[0;34m\u001b[0m\u001b[0m\n\u001b[1;32m    100\u001b[0m \u001b[0;34m\u001b[0m\u001b[0m\n\u001b[0;32m--> 101\u001b[0;31m \u001b[0;34m(\u001b[0m\u001b[0mcoeffs\u001b[0m\u001b[0;34m(\u001b[0m\u001b[0md\u001b[0m \u001b[0;34m=\u001b[0m \u001b[0;34m'2412'\u001b[0m\u001b[0;34m)\u001b[0m\u001b[0;34m)\u001b[0m\u001b[0;34m.\u001b[0m\u001b[0mCp_Cl_Cm\u001b[0m\u001b[0;34m(\u001b[0m\u001b[0malpha\u001b[0m \u001b[0;34m=\u001b[0m \u001b[0;36m0\u001b[0m\u001b[0;34m,\u001b[0m \u001b[0mr\u001b[0m\u001b[0;34m=\u001b[0m\u001b[0;36m1\u001b[0m\u001b[0;34m)\u001b[0m\u001b[0;34m\u001b[0m\u001b[0;34m\u001b[0m\u001b[0m\n\u001b[0m",
            "\u001b[0;32m<ipython-input-59-7e4f9b18f1ce>\u001b[0m in \u001b[0;36mCp_Cl_Cm\u001b[0;34m(self, alpha, r)\u001b[0m\n\u001b[1;32m     70\u001b[0m       \u001b[0;31m#uploaded = files.upload()\u001b[0m\u001b[0;34m\u001b[0m\u001b[0;34m\u001b[0m\u001b[0;34m\u001b[0m\u001b[0m\n\u001b[1;32m     71\u001b[0m \u001b[0;34m\u001b[0m\u001b[0m\n\u001b[0;32m---> 72\u001b[0;31m       \u001b[0;32mwith\u001b[0m \u001b[0mopen\u001b[0m\u001b[0;34m(\u001b[0m\u001b[0;34m\"/content/Cp_curve/Cp_NACA2412_a0.txt\"\u001b[0m\u001b[0;34m,\u001b[0m\u001b[0;34m'r'\u001b[0m\u001b[0;34m)\u001b[0m \u001b[0;32mas\u001b[0m \u001b[0mfile1\u001b[0m\u001b[0;34m:\u001b[0m\u001b[0;34m\u001b[0m\u001b[0;34m\u001b[0m\u001b[0m\n\u001b[0m\u001b[1;32m     73\u001b[0m         \u001b[0mself\u001b[0m\u001b[0;34m.\u001b[0m\u001b[0mCp\u001b[0m \u001b[0;34m=\u001b[0m \u001b[0mfile1\u001b[0m\u001b[0;34m.\u001b[0m\u001b[0mreadlines\u001b[0m\u001b[0;34m(\u001b[0m\u001b[0;34m)\u001b[0m\u001b[0;34m\u001b[0m\u001b[0;34m\u001b[0m\u001b[0m\n\u001b[1;32m     74\u001b[0m         \u001b[0mself\u001b[0m\u001b[0;34m.\u001b[0m\u001b[0mx_ref\u001b[0m \u001b[0;34m=\u001b[0m \u001b[0mnp\u001b[0m\u001b[0;34m.\u001b[0m\u001b[0mzeros\u001b[0m\u001b[0;34m(\u001b[0m\u001b[0mlen\u001b[0m\u001b[0;34m(\u001b[0m\u001b[0mself\u001b[0m\u001b[0;34m.\u001b[0m\u001b[0mCp\u001b[0m\u001b[0;34m)\u001b[0m\u001b[0;34m)\u001b[0m\u001b[0;34m\u001b[0m\u001b[0;34m\u001b[0m\u001b[0m\n",
            "\u001b[0;31mFileNotFoundError\u001b[0m: [Errno 2] No such file or directory: '/content/Cp_curve/Cp_NACA2412_a0.txt'"
          ]
        },
        {
          "output_type": "display_data",
          "data": {
            "image/png": "[encoded data removed]",
            "text/plain": [
              "<Figure size 450x300 with 1 Axes>"
            ]
          },
          "metadata": {
            "needs_background": "light"
          }
        }
      ]
    },
    {
      "cell_type": "markdown",
      "metadata": {
        "id": "52TnsHrDlf2g"
      },
      "source": [
        "# $C_l$ and $C_{m(c/4)}$ plots"
      ]
    },
    {
      "cell_type": "code",
      "metadata": {
        "id": "2ERJmQveaK2B",
        "colab": {
          "base_uri": "https://localhost:8080/",
          "height": 380
        },
        "outputId": "7119fe1c-33c8-4fed-a570-8b8403d027ee"
      },
      "source": [
        "class C_plot(object):\n",
        " \n",
        "  def __init__(self,d='1410'):\n",
        "    self.obj_C = coeffs(d = d)\n",
        " \n",
        "    self.name = 'NACA'+d\n",
        "\n",
        "  def Cl_Cm_curve(self,alpha = [0,1,2,3]):\n",
        "    self.x = np.linspace(0,1,1001) \n",
        "    self.N = 3\n",
        "    self.Cl = np.zeros_like(alpha)\n",
        "    self.Cm = np.zeros_like(alpha)\n",
        "    for ia,a in enumerate(alpha):\n",
        "      self.Cl[ia] = self.obj_C.Cp_Cl_Cm(a, r=0)[0]\n",
        "      self.Cm[ia] = self.obj_C.Cp_Cl_Cm(a, r=0)[1]\n",
        "    \n",
        "    plt.figure()\n",
        "    plt.xlabel(r'$\\alpha $ (deg)')\n",
        "    plt.ylabel('$C_l$')\n",
        "    plt.plot(alpha,self.Cl,'go-')\n",
        "    plt.grid()\n",
        "    plt.legend([self.name])\n",
        "\n",
        "    plt.figure()\n",
        "    plt.xlabel(r'$\\alpha $ (deg)')\n",
        "    plt.ylabel('$C_{m(c/4)}$')\n",
        "    plt.plot(alpha,self.Cm,'ro-')\n",
        "    plt.grid()\n",
        "    plt.legend([self.name])\n",
        "\n",
        "\n",
        "#endclass coeffs\n",
        "(C_plot(d = '1410')).Cl_Cm_curve(alpha = np.linspace(-10,10,20))"
      ],
      "execution_count": null,
      "outputs": [
        {
          "output_type": "stream",
          "name": "stderr",
          "text": [
            "/usr/local/lib/python3.7/dist-packages/ipykernel_launcher.py:43: RuntimeWarning: divide by zero encountered in true_divide\n"
          ]
        },
        {
          "output_type": "error",
          "ename": "KeyboardInterrupt",
          "evalue": "ignored",
          "traceback": [
            "\u001b[0;31m---------------------------------------------------------------------------\u001b[0m",
            "\u001b[0;31mKeyboardInterrupt\u001b[0m                         Traceback (most recent call last)",
            "\u001b[0;32m<ipython-input-55-4ddce26c4e48>\u001b[0m in \u001b[0;36m<module>\u001b[0;34m()\u001b[0m\n\u001b[1;32m     31\u001b[0m \u001b[0;34m\u001b[0m\u001b[0m\n\u001b[1;32m     32\u001b[0m \u001b[0;31m#endclass coeffs\u001b[0m\u001b[0;34m\u001b[0m\u001b[0;34m\u001b[0m\u001b[0;34m\u001b[0m\u001b[0m\n\u001b[0;32m---> 33\u001b[0;31m \u001b[0;34m(\u001b[0m\u001b[0mC_plot\u001b[0m\u001b[0;34m(\u001b[0m\u001b[0md\u001b[0m \u001b[0;34m=\u001b[0m \u001b[0;34m'1410'\u001b[0m\u001b[0;34m)\u001b[0m\u001b[0;34m)\u001b[0m\u001b[0;34m.\u001b[0m\u001b[0mCl_Cm_curve\u001b[0m\u001b[0;34m(\u001b[0m\u001b[0malpha\u001b[0m \u001b[0;34m=\u001b[0m \u001b[0mnp\u001b[0m\u001b[0;34m.\u001b[0m\u001b[0mlinspace\u001b[0m\u001b[0;34m(\u001b[0m\u001b[0;34m-\u001b[0m\u001b[0;36m10\u001b[0m\u001b[0;34m,\u001b[0m\u001b[0;36m10\u001b[0m\u001b[0;34m,\u001b[0m\u001b[0;36m20\u001b[0m\u001b[0;34m)\u001b[0m\u001b[0;34m)\u001b[0m\u001b[0;34m\u001b[0m\u001b[0;34m\u001b[0m\u001b[0m\n\u001b[0m",
            "\u001b[0;32m<ipython-input-55-4ddce26c4e48>\u001b[0m in \u001b[0;36mCl_Cm_curve\u001b[0;34m(self, alpha)\u001b[0m\n\u001b[1;32m     13\u001b[0m     \u001b[0;32mfor\u001b[0m \u001b[0mia\u001b[0m\u001b[0;34m,\u001b[0m\u001b[0ma\u001b[0m \u001b[0;32min\u001b[0m \u001b[0menumerate\u001b[0m\u001b[0;34m(\u001b[0m\u001b[0malpha\u001b[0m\u001b[0;34m)\u001b[0m\u001b[0;34m:\u001b[0m\u001b[0;34m\u001b[0m\u001b[0;34m\u001b[0m\u001b[0m\n\u001b[1;32m     14\u001b[0m       \u001b[0mself\u001b[0m\u001b[0;34m.\u001b[0m\u001b[0mCl\u001b[0m\u001b[0;34m[\u001b[0m\u001b[0mia\u001b[0m\u001b[0;34m]\u001b[0m \u001b[0;34m=\u001b[0m \u001b[0mself\u001b[0m\u001b[0;34m.\u001b[0m\u001b[0mobj_C\u001b[0m\u001b[0;34m.\u001b[0m\u001b[0mCp_Cl_Cm\u001b[0m\u001b[0;34m(\u001b[0m\u001b[0ma\u001b[0m\u001b[0;34m,\u001b[0m \u001b[0mr\u001b[0m\u001b[0;34m=\u001b[0m\u001b[0;36m0\u001b[0m\u001b[0;34m)\u001b[0m\u001b[0;34m[\u001b[0m\u001b[0;36m0\u001b[0m\u001b[0;34m]\u001b[0m\u001b[0;34m\u001b[0m\u001b[0;34m\u001b[0m\u001b[0m\n\u001b[0;32m---> 15\u001b[0;31m       \u001b[0mself\u001b[0m\u001b[0;34m.\u001b[0m\u001b[0mCm\u001b[0m\u001b[0;34m[\u001b[0m\u001b[0mia\u001b[0m\u001b[0;34m]\u001b[0m \u001b[0;34m=\u001b[0m \u001b[0mself\u001b[0m\u001b[0;34m.\u001b[0m\u001b[0mobj_C\u001b[0m\u001b[0;34m.\u001b[0m\u001b[0mCp_Cl_Cm\u001b[0m\u001b[0;34m(\u001b[0m\u001b[0ma\u001b[0m\u001b[0;34m,\u001b[0m \u001b[0mr\u001b[0m\u001b[0;34m=\u001b[0m\u001b[0;36m0\u001b[0m\u001b[0;34m)\u001b[0m\u001b[0;34m[\u001b[0m\u001b[0;36m1\u001b[0m\u001b[0;34m]\u001b[0m\u001b[0;34m\u001b[0m\u001b[0;34m\u001b[0m\u001b[0m\n\u001b[0m\u001b[1;32m     16\u001b[0m \u001b[0;34m\u001b[0m\u001b[0m\n\u001b[1;32m     17\u001b[0m     \u001b[0mplt\u001b[0m\u001b[0;34m.\u001b[0m\u001b[0mfigure\u001b[0m\u001b[0;34m(\u001b[0m\u001b[0;34m)\u001b[0m\u001b[0;34m\u001b[0m\u001b[0;34m\u001b[0m\u001b[0m\n",
            "\u001b[0;32m<ipython-input-54-02896a1d83fc>\u001b[0m in \u001b[0;36mCp_Cl_Cm\u001b[0;34m(self, alpha, r)\u001b[0m\n\u001b[1;32m     46\u001b[0m     \u001b[0mself\u001b[0m\u001b[0;34m.\u001b[0m\u001b[0mCp_thick\u001b[0m \u001b[0;34m=\u001b[0m \u001b[0mnp\u001b[0m\u001b[0;34m.\u001b[0m\u001b[0mzeros_like\u001b[0m\u001b[0;34m(\u001b[0m\u001b[0mx\u001b[0m\u001b[0;34m)\u001b[0m\u001b[0;34m\u001b[0m\u001b[0;34m\u001b[0m\u001b[0m\n\u001b[1;32m     47\u001b[0m     \u001b[0;32mfor\u001b[0m \u001b[0mi\u001b[0m \u001b[0;32min\u001b[0m \u001b[0mrange\u001b[0m\u001b[0;34m(\u001b[0m\u001b[0mlen\u001b[0m\u001b[0;34m(\u001b[0m\u001b[0mx\u001b[0m\u001b[0;34m)\u001b[0m\u001b[0;34m)\u001b[0m\u001b[0;34m:\u001b[0m \u001b[0;31m#Improper intergral done by Cauchy Principle Value\u001b[0m\u001b[0;34m\u001b[0m\u001b[0;34m\u001b[0m\u001b[0m\n\u001b[0;32m---> 48\u001b[0;31m       \u001b[0mself\u001b[0m\u001b[0;34m.\u001b[0m\u001b[0mCp_thick\u001b[0m\u001b[0;34m[\u001b[0m\u001b[0mi\u001b[0m\u001b[0;34m]\u001b[0m \u001b[0;34m=\u001b[0m \u001b[0;34m-\u001b[0m\u001b[0;34m(\u001b[0m\u001b[0;36m2\u001b[0m\u001b[0;34m/\u001b[0m\u001b[0mnp\u001b[0m\u001b[0;34m.\u001b[0m\u001b[0mpi\u001b[0m\u001b[0;34m)\u001b[0m\u001b[0;34m*\u001b[0m\u001b[0;34m(\u001b[0m\u001b[0mintegrate\u001b[0m\u001b[0;34m(\u001b[0m\u001b[0mself\u001b[0m\u001b[0;34m.\u001b[0m\u001b[0mdZt\u001b[0m\u001b[0;34m[\u001b[0m\u001b[0;36m0\u001b[0m\u001b[0;34m:\u001b[0m\u001b[0mi\u001b[0m\u001b[0;34m]\u001b[0m\u001b[0;34m/\u001b[0m\u001b[0;34m(\u001b[0m\u001b[0mx\u001b[0m\u001b[0;34m[\u001b[0m\u001b[0mi\u001b[0m\u001b[0;34m]\u001b[0m\u001b[0;34m-\u001b[0m\u001b[0mself\u001b[0m\u001b[0;34m.\u001b[0m\u001b[0mzeta\u001b[0m\u001b[0;34m[\u001b[0m\u001b[0;36m0\u001b[0m\u001b[0;34m:\u001b[0m\u001b[0mi\u001b[0m\u001b[0;34m]\u001b[0m\u001b[0;34m)\u001b[0m\u001b[0;34m,\u001b[0m\u001b[0mself\u001b[0m\u001b[0;34m.\u001b[0m\u001b[0mzeta\u001b[0m\u001b[0;34m[\u001b[0m\u001b[0;36m0\u001b[0m\u001b[0;34m:\u001b[0m\u001b[0mi\u001b[0m\u001b[0;34m]\u001b[0m\u001b[0;34m)\u001b[0m\u001b[0;34m+\u001b[0m\u001b[0mintegrate\u001b[0m\u001b[0;34m(\u001b[0m\u001b[0mself\u001b[0m\u001b[0;34m.\u001b[0m\u001b[0mdZt\u001b[0m\u001b[0;34m[\u001b[0m\u001b[0mi\u001b[0m\u001b[0;34m+\u001b[0m\u001b[0;36m1\u001b[0m\u001b[0;34m:\u001b[0m\u001b[0mlen\u001b[0m\u001b[0;34m(\u001b[0m\u001b[0mx\u001b[0m\u001b[0;34m)\u001b[0m\u001b[0;34m+\u001b[0m\u001b[0;36m1\u001b[0m\u001b[0;34m]\u001b[0m\u001b[0;34m/\u001b[0m\u001b[0;34m(\u001b[0m\u001b[0mx\u001b[0m\u001b[0;34m[\u001b[0m\u001b[0mi\u001b[0m\u001b[0;34m]\u001b[0m\u001b[0;34m-\u001b[0m\u001b[0mself\u001b[0m\u001b[0;34m.\u001b[0m\u001b[0mzeta\u001b[0m\u001b[0;34m[\u001b[0m\u001b[0mi\u001b[0m\u001b[0;34m+\u001b[0m\u001b[0;36m1\u001b[0m\u001b[0;34m:\u001b[0m\u001b[0mlen\u001b[0m\u001b[0;34m(\u001b[0m\u001b[0mx\u001b[0m\u001b[0;34m)\u001b[0m\u001b[0;34m+\u001b[0m\u001b[0;36m1\u001b[0m\u001b[0;34m]\u001b[0m\u001b[0;34m)\u001b[0m\u001b[0;34m,\u001b[0m\u001b[0mself\u001b[0m\u001b[0;34m.\u001b[0m\u001b[0mzeta\u001b[0m\u001b[0;34m[\u001b[0m\u001b[0mi\u001b[0m\u001b[0;34m+\u001b[0m\u001b[0;36m1\u001b[0m\u001b[0;34m:\u001b[0m\u001b[0mlen\u001b[0m\u001b[0;34m(\u001b[0m\u001b[0mx\u001b[0m\u001b[0;34m)\u001b[0m\u001b[0;34m+\u001b[0m\u001b[0;36m1\u001b[0m\u001b[0;34m]\u001b[0m\u001b[0;34m)\u001b[0m\u001b[0;34m)\u001b[0m\u001b[0;34m\u001b[0m\u001b[0;34m\u001b[0m\u001b[0m\n\u001b[0m\u001b[1;32m     49\u001b[0m     \u001b[0mself\u001b[0m\u001b[0;34m.\u001b[0m\u001b[0mCp_u\u001b[0m \u001b[0;34m=\u001b[0m \u001b[0mself\u001b[0m\u001b[0;34m.\u001b[0m\u001b[0mCp_thick\u001b[0m \u001b[0;34m-\u001b[0m \u001b[0mself\u001b[0m\u001b[0;34m.\u001b[0m\u001b[0mgamma\u001b[0m \u001b[0;31m#Cp for upper surface\u001b[0m\u001b[0;34m\u001b[0m\u001b[0;34m\u001b[0m\u001b[0m\n\u001b[1;32m     50\u001b[0m     \u001b[0mself\u001b[0m\u001b[0;34m.\u001b[0m\u001b[0mCp_l\u001b[0m \u001b[0;34m=\u001b[0m \u001b[0mself\u001b[0m\u001b[0;34m.\u001b[0m\u001b[0mCp_thick\u001b[0m \u001b[0;34m+\u001b[0m \u001b[0mself\u001b[0m\u001b[0;34m.\u001b[0m\u001b[0mgamma\u001b[0m \u001b[0;31m#Cp for lower surface\u001b[0m\u001b[0;34m\u001b[0m\u001b[0;34m\u001b[0m\u001b[0m\n",
            "\u001b[0;31mKeyboardInterrupt\u001b[0m: "
          ]
        }
      ]
    }
  ]
}